{
 "cells": [
  {
   "cell_type": "markdown",
   "id": "317a9967",
   "metadata": {},
   "source": [
    "# -----------------------Mobil Listrik--------------------------\n",
    "\n",
    "Anggota kelompok III:\n",
    "1. Yuzmi Zakya\n",
    "2. Muhammad Ade Putra\n",
    "3. Emi Andriani\n",
    "4. Elisa Rosani"
   ]
  },
  {
   "cell_type": "markdown",
   "id": "cb6f55f5",
   "metadata": {},
   "source": [
    "### Import libraries"
   ]
  },
  {
   "cell_type": "code",
   "execution_count": 1,
   "id": "18a14030",
   "metadata": {},
   "outputs": [],
   "source": [
    "# Import Package\n",
    "import numpy as np\n",
    "import pandas as pd\n",
    "import matplotlib.pyplot as plt\n",
    "import seaborn as sns\n",
    "import missingno\n",
    "from datetime import datetime"
   ]
  },
  {
   "cell_type": "markdown",
   "id": "596b992f",
   "metadata": {},
   "source": [
    "### Pre-processing 1"
   ]
  },
  {
   "cell_type": "code",
   "execution_count": 2,
   "id": "f0320a24",
   "metadata": {
    "scrolled": false
   },
   "outputs": [
    {
     "data": {
      "text/html": [
       "<div>\n",
       "<style scoped>\n",
       "    .dataframe tbody tr th:only-of-type {\n",
       "        vertical-align: middle;\n",
       "    }\n",
       "\n",
       "    .dataframe tbody tr th {\n",
       "        vertical-align: top;\n",
       "    }\n",
       "\n",
       "    .dataframe thead th {\n",
       "        text-align: right;\n",
       "    }\n",
       "</style>\n",
       "<table border=\"1\" class=\"dataframe\">\n",
       "  <thead>\n",
       "    <tr style=\"text-align: right;\">\n",
       "      <th></th>\n",
       "      <th>VIN (1-10)</th>\n",
       "      <th>County</th>\n",
       "      <th>City</th>\n",
       "      <th>State</th>\n",
       "      <th>Postal Code</th>\n",
       "      <th>Model Year</th>\n",
       "      <th>Make</th>\n",
       "      <th>Model</th>\n",
       "      <th>Electric Vehicle Type</th>\n",
       "      <th>Clean Alternative Fuel Vehicle (CAFV) Eligibility</th>\n",
       "      <th>Electric Range</th>\n",
       "      <th>Base MSRP</th>\n",
       "      <th>Legislative District</th>\n",
       "      <th>DOL Vehicle ID</th>\n",
       "      <th>Vehicle Location</th>\n",
       "      <th>Electric Utility</th>\n",
       "      <th>2020 Census Tract</th>\n",
       "    </tr>\n",
       "  </thead>\n",
       "  <tbody>\n",
       "    <tr>\n",
       "      <th>0</th>\n",
       "      <td>5YJ3E1EB4L</td>\n",
       "      <td>Yakima</td>\n",
       "      <td>Yakima</td>\n",
       "      <td>WA</td>\n",
       "      <td>98908.0</td>\n",
       "      <td>2020</td>\n",
       "      <td>TESLA</td>\n",
       "      <td>MODEL 3</td>\n",
       "      <td>Battery Electric Vehicle (BEV)</td>\n",
       "      <td>Clean Alternative Fuel Vehicle Eligible</td>\n",
       "      <td>322</td>\n",
       "      <td>0</td>\n",
       "      <td>14.0</td>\n",
       "      <td>127175366</td>\n",
       "      <td>POINT (-120.56916 46.58514)</td>\n",
       "      <td>PACIFICORP</td>\n",
       "      <td>5.307700e+10</td>\n",
       "    </tr>\n",
       "    <tr>\n",
       "      <th>1</th>\n",
       "      <td>5YJ3E1EA7K</td>\n",
       "      <td>San Diego</td>\n",
       "      <td>San Diego</td>\n",
       "      <td>CA</td>\n",
       "      <td>92101.0</td>\n",
       "      <td>2019</td>\n",
       "      <td>TESLA</td>\n",
       "      <td>MODEL 3</td>\n",
       "      <td>Battery Electric Vehicle (BEV)</td>\n",
       "      <td>Clean Alternative Fuel Vehicle Eligible</td>\n",
       "      <td>220</td>\n",
       "      <td>0</td>\n",
       "      <td>NaN</td>\n",
       "      <td>266614659</td>\n",
       "      <td>POINT (-117.16171 32.71568)</td>\n",
       "      <td>NaN</td>\n",
       "      <td>6.073005e+09</td>\n",
       "    </tr>\n",
       "    <tr>\n",
       "      <th>2</th>\n",
       "      <td>7JRBR0FL9M</td>\n",
       "      <td>Lane</td>\n",
       "      <td>Eugene</td>\n",
       "      <td>OR</td>\n",
       "      <td>97404.0</td>\n",
       "      <td>2021</td>\n",
       "      <td>VOLVO</td>\n",
       "      <td>S60</td>\n",
       "      <td>Plug-in Hybrid Electric Vehicle (PHEV)</td>\n",
       "      <td>Not eligible due to low battery range</td>\n",
       "      <td>22</td>\n",
       "      <td>0</td>\n",
       "      <td>NaN</td>\n",
       "      <td>144502018</td>\n",
       "      <td>POINT (-123.12802 44.09573)</td>\n",
       "      <td>NaN</td>\n",
       "      <td>4.103900e+10</td>\n",
       "    </tr>\n",
       "    <tr>\n",
       "      <th>3</th>\n",
       "      <td>5YJXCBE21K</td>\n",
       "      <td>Yakima</td>\n",
       "      <td>Yakima</td>\n",
       "      <td>WA</td>\n",
       "      <td>98908.0</td>\n",
       "      <td>2019</td>\n",
       "      <td>TESLA</td>\n",
       "      <td>MODEL X</td>\n",
       "      <td>Battery Electric Vehicle (BEV)</td>\n",
       "      <td>Clean Alternative Fuel Vehicle Eligible</td>\n",
       "      <td>289</td>\n",
       "      <td>0</td>\n",
       "      <td>14.0</td>\n",
       "      <td>477039944</td>\n",
       "      <td>POINT (-120.56916 46.58514)</td>\n",
       "      <td>PACIFICORP</td>\n",
       "      <td>5.307700e+10</td>\n",
       "    </tr>\n",
       "    <tr>\n",
       "      <th>4</th>\n",
       "      <td>5UXKT0C5XH</td>\n",
       "      <td>Snohomish</td>\n",
       "      <td>Bothell</td>\n",
       "      <td>WA</td>\n",
       "      <td>98021.0</td>\n",
       "      <td>2017</td>\n",
       "      <td>BMW</td>\n",
       "      <td>X5</td>\n",
       "      <td>Plug-in Hybrid Electric Vehicle (PHEV)</td>\n",
       "      <td>Not eligible due to low battery range</td>\n",
       "      <td>14</td>\n",
       "      <td>0</td>\n",
       "      <td>1.0</td>\n",
       "      <td>106314946</td>\n",
       "      <td>POINT (-122.18384 47.8031)</td>\n",
       "      <td>PUGET SOUND ENERGY INC</td>\n",
       "      <td>5.306105e+10</td>\n",
       "    </tr>\n",
       "    <tr>\n",
       "      <th>...</th>\n",
       "      <td>...</td>\n",
       "      <td>...</td>\n",
       "      <td>...</td>\n",
       "      <td>...</td>\n",
       "      <td>...</td>\n",
       "      <td>...</td>\n",
       "      <td>...</td>\n",
       "      <td>...</td>\n",
       "      <td>...</td>\n",
       "      <td>...</td>\n",
       "      <td>...</td>\n",
       "      <td>...</td>\n",
       "      <td>...</td>\n",
       "      <td>...</td>\n",
       "      <td>...</td>\n",
       "      <td>...</td>\n",
       "      <td>...</td>\n",
       "    </tr>\n",
       "    <tr>\n",
       "      <th>124711</th>\n",
       "      <td>5YJ3E1EB6N</td>\n",
       "      <td>Snohomish</td>\n",
       "      <td>Monroe</td>\n",
       "      <td>WA</td>\n",
       "      <td>98272.0</td>\n",
       "      <td>2022</td>\n",
       "      <td>TESLA</td>\n",
       "      <td>MODEL 3</td>\n",
       "      <td>Battery Electric Vehicle (BEV)</td>\n",
       "      <td>Eligibility unknown as battery range has not b...</td>\n",
       "      <td>0</td>\n",
       "      <td>0</td>\n",
       "      <td>39.0</td>\n",
       "      <td>192999061</td>\n",
       "      <td>POINT (-121.98087 47.8526)</td>\n",
       "      <td>PUGET SOUND ENERGY INC</td>\n",
       "      <td>5.306105e+10</td>\n",
       "    </tr>\n",
       "    <tr>\n",
       "      <th>124712</th>\n",
       "      <td>KNDCM3LD2L</td>\n",
       "      <td>Pierce</td>\n",
       "      <td>Tacoma</td>\n",
       "      <td>WA</td>\n",
       "      <td>98406.0</td>\n",
       "      <td>2020</td>\n",
       "      <td>KIA</td>\n",
       "      <td>NIRO</td>\n",
       "      <td>Plug-in Hybrid Electric Vehicle (PHEV)</td>\n",
       "      <td>Not eligible due to low battery range</td>\n",
       "      <td>26</td>\n",
       "      <td>0</td>\n",
       "      <td>27.0</td>\n",
       "      <td>113346250</td>\n",
       "      <td>POINT (-122.52054 47.26887)</td>\n",
       "      <td>BONNEVILLE POWER ADMINISTRATION||CITY OF TACOM...</td>\n",
       "      <td>5.305306e+10</td>\n",
       "    </tr>\n",
       "    <tr>\n",
       "      <th>124713</th>\n",
       "      <td>7SAYGDEE0P</td>\n",
       "      <td>Whatcom</td>\n",
       "      <td>Bellingham</td>\n",
       "      <td>WA</td>\n",
       "      <td>98226.0</td>\n",
       "      <td>2023</td>\n",
       "      <td>TESLA</td>\n",
       "      <td>MODEL Y</td>\n",
       "      <td>Battery Electric Vehicle (BEV)</td>\n",
       "      <td>Eligibility unknown as battery range has not b...</td>\n",
       "      <td>0</td>\n",
       "      <td>0</td>\n",
       "      <td>42.0</td>\n",
       "      <td>232751305</td>\n",
       "      <td>POINT (-122.49756 48.7999)</td>\n",
       "      <td>PUGET SOUND ENERGY INC||PUD NO 1 OF WHATCOM CO...</td>\n",
       "      <td>5.307300e+10</td>\n",
       "    </tr>\n",
       "    <tr>\n",
       "      <th>124714</th>\n",
       "      <td>1G1FW6S03J</td>\n",
       "      <td>Pierce</td>\n",
       "      <td>Tacoma</td>\n",
       "      <td>WA</td>\n",
       "      <td>98444.0</td>\n",
       "      <td>2018</td>\n",
       "      <td>CHEVROLET</td>\n",
       "      <td>BOLT EV</td>\n",
       "      <td>Battery Electric Vehicle (BEV)</td>\n",
       "      <td>Clean Alternative Fuel Vehicle Eligible</td>\n",
       "      <td>238</td>\n",
       "      <td>0</td>\n",
       "      <td>29.0</td>\n",
       "      <td>102589007</td>\n",
       "      <td>POINT (-122.46495 47.16778)</td>\n",
       "      <td>BONNEVILLE POWER ADMINISTRATION||CITY OF TACOM...</td>\n",
       "      <td>5.305307e+10</td>\n",
       "    </tr>\n",
       "    <tr>\n",
       "      <th>124715</th>\n",
       "      <td>1G1RC6E47F</td>\n",
       "      <td>Benton</td>\n",
       "      <td>Benton City</td>\n",
       "      <td>WA</td>\n",
       "      <td>99320.0</td>\n",
       "      <td>2015</td>\n",
       "      <td>CHEVROLET</td>\n",
       "      <td>VOLT</td>\n",
       "      <td>Plug-in Hybrid Electric Vehicle (PHEV)</td>\n",
       "      <td>Clean Alternative Fuel Vehicle Eligible</td>\n",
       "      <td>38</td>\n",
       "      <td>0</td>\n",
       "      <td>16.0</td>\n",
       "      <td>476974718</td>\n",
       "      <td>POINT (-119.48756 46.26543)</td>\n",
       "      <td>BONNEVILLE POWER ADMINISTRATION||PUD NO 1 OF B...</td>\n",
       "      <td>5.300501e+10</td>\n",
       "    </tr>\n",
       "  </tbody>\n",
       "</table>\n",
       "<p>124716 rows × 17 columns</p>\n",
       "</div>"
      ],
      "text/plain": [
       "        VIN (1-10)     County         City State  Postal Code  Model Year  \\\n",
       "0       5YJ3E1EB4L     Yakima       Yakima    WA      98908.0        2020   \n",
       "1       5YJ3E1EA7K  San Diego    San Diego    CA      92101.0        2019   \n",
       "2       7JRBR0FL9M       Lane       Eugene    OR      97404.0        2021   \n",
       "3       5YJXCBE21K     Yakima       Yakima    WA      98908.0        2019   \n",
       "4       5UXKT0C5XH  Snohomish      Bothell    WA      98021.0        2017   \n",
       "...            ...        ...          ...   ...          ...         ...   \n",
       "124711  5YJ3E1EB6N  Snohomish       Monroe    WA      98272.0        2022   \n",
       "124712  KNDCM3LD2L     Pierce       Tacoma    WA      98406.0        2020   \n",
       "124713  7SAYGDEE0P    Whatcom   Bellingham    WA      98226.0        2023   \n",
       "124714  1G1FW6S03J     Pierce       Tacoma    WA      98444.0        2018   \n",
       "124715  1G1RC6E47F     Benton  Benton City    WA      99320.0        2015   \n",
       "\n",
       "             Make    Model                   Electric Vehicle Type  \\\n",
       "0           TESLA  MODEL 3          Battery Electric Vehicle (BEV)   \n",
       "1           TESLA  MODEL 3          Battery Electric Vehicle (BEV)   \n",
       "2           VOLVO      S60  Plug-in Hybrid Electric Vehicle (PHEV)   \n",
       "3           TESLA  MODEL X          Battery Electric Vehicle (BEV)   \n",
       "4             BMW       X5  Plug-in Hybrid Electric Vehicle (PHEV)   \n",
       "...           ...      ...                                     ...   \n",
       "124711      TESLA  MODEL 3          Battery Electric Vehicle (BEV)   \n",
       "124712        KIA     NIRO  Plug-in Hybrid Electric Vehicle (PHEV)   \n",
       "124713      TESLA  MODEL Y          Battery Electric Vehicle (BEV)   \n",
       "124714  CHEVROLET  BOLT EV          Battery Electric Vehicle (BEV)   \n",
       "124715  CHEVROLET     VOLT  Plug-in Hybrid Electric Vehicle (PHEV)   \n",
       "\n",
       "        Clean Alternative Fuel Vehicle (CAFV) Eligibility  Electric Range  \\\n",
       "0                 Clean Alternative Fuel Vehicle Eligible             322   \n",
       "1                 Clean Alternative Fuel Vehicle Eligible             220   \n",
       "2                   Not eligible due to low battery range              22   \n",
       "3                 Clean Alternative Fuel Vehicle Eligible             289   \n",
       "4                   Not eligible due to low battery range              14   \n",
       "...                                                   ...             ...   \n",
       "124711  Eligibility unknown as battery range has not b...               0   \n",
       "124712              Not eligible due to low battery range              26   \n",
       "124713  Eligibility unknown as battery range has not b...               0   \n",
       "124714            Clean Alternative Fuel Vehicle Eligible             238   \n",
       "124715            Clean Alternative Fuel Vehicle Eligible              38   \n",
       "\n",
       "        Base MSRP  Legislative District  DOL Vehicle ID  \\\n",
       "0               0                  14.0       127175366   \n",
       "1               0                   NaN       266614659   \n",
       "2               0                   NaN       144502018   \n",
       "3               0                  14.0       477039944   \n",
       "4               0                   1.0       106314946   \n",
       "...           ...                   ...             ...   \n",
       "124711          0                  39.0       192999061   \n",
       "124712          0                  27.0       113346250   \n",
       "124713          0                  42.0       232751305   \n",
       "124714          0                  29.0       102589007   \n",
       "124715          0                  16.0       476974718   \n",
       "\n",
       "                   Vehicle Location  \\\n",
       "0       POINT (-120.56916 46.58514)   \n",
       "1       POINT (-117.16171 32.71568)   \n",
       "2       POINT (-123.12802 44.09573)   \n",
       "3       POINT (-120.56916 46.58514)   \n",
       "4        POINT (-122.18384 47.8031)   \n",
       "...                             ...   \n",
       "124711   POINT (-121.98087 47.8526)   \n",
       "124712  POINT (-122.52054 47.26887)   \n",
       "124713   POINT (-122.49756 48.7999)   \n",
       "124714  POINT (-122.46495 47.16778)   \n",
       "124715  POINT (-119.48756 46.26543)   \n",
       "\n",
       "                                         Electric Utility  2020 Census Tract  \n",
       "0                                              PACIFICORP       5.307700e+10  \n",
       "1                                                     NaN       6.073005e+09  \n",
       "2                                                     NaN       4.103900e+10  \n",
       "3                                              PACIFICORP       5.307700e+10  \n",
       "4                                  PUGET SOUND ENERGY INC       5.306105e+10  \n",
       "...                                                   ...                ...  \n",
       "124711                             PUGET SOUND ENERGY INC       5.306105e+10  \n",
       "124712  BONNEVILLE POWER ADMINISTRATION||CITY OF TACOM...       5.305306e+10  \n",
       "124713  PUGET SOUND ENERGY INC||PUD NO 1 OF WHATCOM CO...       5.307300e+10  \n",
       "124714  BONNEVILLE POWER ADMINISTRATION||CITY OF TACOM...       5.305307e+10  \n",
       "124715  BONNEVILLE POWER ADMINISTRATION||PUD NO 1 OF B...       5.300501e+10  \n",
       "\n",
       "[124716 rows x 17 columns]"
      ]
     },
     "execution_count": 2,
     "metadata": {},
     "output_type": "execute_result"
    }
   ],
   "source": [
    "# load dataset Electric\n",
    "df = pd.read_csv('Electric_Vehicle_Population_Data (1).csv')\n",
    "df"
   ]
  },
  {
   "cell_type": "code",
   "execution_count": 3,
   "id": "e203c9f0",
   "metadata": {
    "scrolled": true
   },
   "outputs": [
    {
     "data": {
      "text/plain": [
       "0"
      ]
     },
     "execution_count": 3,
     "metadata": {},
     "output_type": "execute_result"
    }
   ],
   "source": [
    "# mengecek duplikat\n",
    "df.duplicated().sum()"
   ]
  },
  {
   "cell_type": "code",
   "execution_count": 4,
   "id": "51131d8d",
   "metadata": {},
   "outputs": [],
   "source": [
    "# mendrop beberapa kolom\n",
    "df = df.drop(columns=['VIN (1-10)', 'County', 'City', 'State', 'Postal Code', 'Model', 'Legislative District',\n",
    "                      'DOL Vehicle ID', 'Vehicle Location', '2020 Census Tract'], axis=1)"
   ]
  },
  {
   "cell_type": "code",
   "execution_count": 5,
   "id": "f4cbf927",
   "metadata": {
    "scrolled": false
   },
   "outputs": [
    {
     "data": {
      "text/html": [
       "<div>\n",
       "<style scoped>\n",
       "    .dataframe tbody tr th:only-of-type {\n",
       "        vertical-align: middle;\n",
       "    }\n",
       "\n",
       "    .dataframe tbody tr th {\n",
       "        vertical-align: top;\n",
       "    }\n",
       "\n",
       "    .dataframe thead th {\n",
       "        text-align: right;\n",
       "    }\n",
       "</style>\n",
       "<table border=\"1\" class=\"dataframe\">\n",
       "  <thead>\n",
       "    <tr style=\"text-align: right;\">\n",
       "      <th></th>\n",
       "      <th>Model Year</th>\n",
       "      <th>Make</th>\n",
       "      <th>Electric Vehicle Type</th>\n",
       "      <th>Clean Alternative Fuel Vehicle (CAFV) Eligibility</th>\n",
       "      <th>Electric Range</th>\n",
       "      <th>Base MSRP</th>\n",
       "      <th>Electric Utility</th>\n",
       "    </tr>\n",
       "  </thead>\n",
       "  <tbody>\n",
       "    <tr>\n",
       "      <th>0</th>\n",
       "      <td>2020</td>\n",
       "      <td>TESLA</td>\n",
       "      <td>Battery Electric Vehicle (BEV)</td>\n",
       "      <td>Clean Alternative Fuel Vehicle Eligible</td>\n",
       "      <td>322</td>\n",
       "      <td>0</td>\n",
       "      <td>PACIFICORP</td>\n",
       "    </tr>\n",
       "    <tr>\n",
       "      <th>1</th>\n",
       "      <td>2019</td>\n",
       "      <td>TESLA</td>\n",
       "      <td>Battery Electric Vehicle (BEV)</td>\n",
       "      <td>Clean Alternative Fuel Vehicle Eligible</td>\n",
       "      <td>220</td>\n",
       "      <td>0</td>\n",
       "      <td>NaN</td>\n",
       "    </tr>\n",
       "    <tr>\n",
       "      <th>2</th>\n",
       "      <td>2021</td>\n",
       "      <td>VOLVO</td>\n",
       "      <td>Plug-in Hybrid Electric Vehicle (PHEV)</td>\n",
       "      <td>Not eligible due to low battery range</td>\n",
       "      <td>22</td>\n",
       "      <td>0</td>\n",
       "      <td>NaN</td>\n",
       "    </tr>\n",
       "    <tr>\n",
       "      <th>3</th>\n",
       "      <td>2019</td>\n",
       "      <td>TESLA</td>\n",
       "      <td>Battery Electric Vehicle (BEV)</td>\n",
       "      <td>Clean Alternative Fuel Vehicle Eligible</td>\n",
       "      <td>289</td>\n",
       "      <td>0</td>\n",
       "      <td>PACIFICORP</td>\n",
       "    </tr>\n",
       "    <tr>\n",
       "      <th>4</th>\n",
       "      <td>2017</td>\n",
       "      <td>BMW</td>\n",
       "      <td>Plug-in Hybrid Electric Vehicle (PHEV)</td>\n",
       "      <td>Not eligible due to low battery range</td>\n",
       "      <td>14</td>\n",
       "      <td>0</td>\n",
       "      <td>PUGET SOUND ENERGY INC</td>\n",
       "    </tr>\n",
       "    <tr>\n",
       "      <th>...</th>\n",
       "      <td>...</td>\n",
       "      <td>...</td>\n",
       "      <td>...</td>\n",
       "      <td>...</td>\n",
       "      <td>...</td>\n",
       "      <td>...</td>\n",
       "      <td>...</td>\n",
       "    </tr>\n",
       "    <tr>\n",
       "      <th>124711</th>\n",
       "      <td>2022</td>\n",
       "      <td>TESLA</td>\n",
       "      <td>Battery Electric Vehicle (BEV)</td>\n",
       "      <td>Eligibility unknown as battery range has not b...</td>\n",
       "      <td>0</td>\n",
       "      <td>0</td>\n",
       "      <td>PUGET SOUND ENERGY INC</td>\n",
       "    </tr>\n",
       "    <tr>\n",
       "      <th>124712</th>\n",
       "      <td>2020</td>\n",
       "      <td>KIA</td>\n",
       "      <td>Plug-in Hybrid Electric Vehicle (PHEV)</td>\n",
       "      <td>Not eligible due to low battery range</td>\n",
       "      <td>26</td>\n",
       "      <td>0</td>\n",
       "      <td>BONNEVILLE POWER ADMINISTRATION||CITY OF TACOM...</td>\n",
       "    </tr>\n",
       "    <tr>\n",
       "      <th>124713</th>\n",
       "      <td>2023</td>\n",
       "      <td>TESLA</td>\n",
       "      <td>Battery Electric Vehicle (BEV)</td>\n",
       "      <td>Eligibility unknown as battery range has not b...</td>\n",
       "      <td>0</td>\n",
       "      <td>0</td>\n",
       "      <td>PUGET SOUND ENERGY INC||PUD NO 1 OF WHATCOM CO...</td>\n",
       "    </tr>\n",
       "    <tr>\n",
       "      <th>124714</th>\n",
       "      <td>2018</td>\n",
       "      <td>CHEVROLET</td>\n",
       "      <td>Battery Electric Vehicle (BEV)</td>\n",
       "      <td>Clean Alternative Fuel Vehicle Eligible</td>\n",
       "      <td>238</td>\n",
       "      <td>0</td>\n",
       "      <td>BONNEVILLE POWER ADMINISTRATION||CITY OF TACOM...</td>\n",
       "    </tr>\n",
       "    <tr>\n",
       "      <th>124715</th>\n",
       "      <td>2015</td>\n",
       "      <td>CHEVROLET</td>\n",
       "      <td>Plug-in Hybrid Electric Vehicle (PHEV)</td>\n",
       "      <td>Clean Alternative Fuel Vehicle Eligible</td>\n",
       "      <td>38</td>\n",
       "      <td>0</td>\n",
       "      <td>BONNEVILLE POWER ADMINISTRATION||PUD NO 1 OF B...</td>\n",
       "    </tr>\n",
       "  </tbody>\n",
       "</table>\n",
       "<p>124716 rows × 7 columns</p>\n",
       "</div>"
      ],
      "text/plain": [
       "        Model Year       Make                   Electric Vehicle Type  \\\n",
       "0             2020      TESLA          Battery Electric Vehicle (BEV)   \n",
       "1             2019      TESLA          Battery Electric Vehicle (BEV)   \n",
       "2             2021      VOLVO  Plug-in Hybrid Electric Vehicle (PHEV)   \n",
       "3             2019      TESLA          Battery Electric Vehicle (BEV)   \n",
       "4             2017        BMW  Plug-in Hybrid Electric Vehicle (PHEV)   \n",
       "...            ...        ...                                     ...   \n",
       "124711        2022      TESLA          Battery Electric Vehicle (BEV)   \n",
       "124712        2020        KIA  Plug-in Hybrid Electric Vehicle (PHEV)   \n",
       "124713        2023      TESLA          Battery Electric Vehicle (BEV)   \n",
       "124714        2018  CHEVROLET          Battery Electric Vehicle (BEV)   \n",
       "124715        2015  CHEVROLET  Plug-in Hybrid Electric Vehicle (PHEV)   \n",
       "\n",
       "        Clean Alternative Fuel Vehicle (CAFV) Eligibility  Electric Range  \\\n",
       "0                 Clean Alternative Fuel Vehicle Eligible             322   \n",
       "1                 Clean Alternative Fuel Vehicle Eligible             220   \n",
       "2                   Not eligible due to low battery range              22   \n",
       "3                 Clean Alternative Fuel Vehicle Eligible             289   \n",
       "4                   Not eligible due to low battery range              14   \n",
       "...                                                   ...             ...   \n",
       "124711  Eligibility unknown as battery range has not b...               0   \n",
       "124712              Not eligible due to low battery range              26   \n",
       "124713  Eligibility unknown as battery range has not b...               0   \n",
       "124714            Clean Alternative Fuel Vehicle Eligible             238   \n",
       "124715            Clean Alternative Fuel Vehicle Eligible              38   \n",
       "\n",
       "        Base MSRP                                   Electric Utility  \n",
       "0               0                                         PACIFICORP  \n",
       "1               0                                                NaN  \n",
       "2               0                                                NaN  \n",
       "3               0                                         PACIFICORP  \n",
       "4               0                             PUGET SOUND ENERGY INC  \n",
       "...           ...                                                ...  \n",
       "124711          0                             PUGET SOUND ENERGY INC  \n",
       "124712          0  BONNEVILLE POWER ADMINISTRATION||CITY OF TACOM...  \n",
       "124713          0  PUGET SOUND ENERGY INC||PUD NO 1 OF WHATCOM CO...  \n",
       "124714          0  BONNEVILLE POWER ADMINISTRATION||CITY OF TACOM...  \n",
       "124715          0  BONNEVILLE POWER ADMINISTRATION||PUD NO 1 OF B...  \n",
       "\n",
       "[124716 rows x 7 columns]"
      ]
     },
     "execution_count": 5,
     "metadata": {},
     "output_type": "execute_result"
    }
   ],
   "source": [
    "df"
   ]
  },
  {
   "cell_type": "markdown",
   "id": "9727e7ec",
   "metadata": {},
   "source": [
    "#### Penjelasan tentang kolom-kolom yg digunakan\n",
    "\n",
    "1. Model year =>\n",
    "   \n",
    "tahun pembuatan kendaraan atau mobil listrik itu sendiri\n",
    "\n",
    "2. Make=>\n",
    "   \n",
    "nama perusahaan atau brand yg membuat kendaraan tersebut\n",
    "\n",
    "3. Electric Vehicle Type=>\n",
    "   \n",
    "merujuk pada klasifikasi jenis-jenis kendaraan listrik berdasarkan desain dan konfigurasi mereka. Klasifikasi ini membantu membedakan jenis-jenis kendaraan listrik berdasarkan cara mereka menghasilkan tenaga listrik dan menggerakkan kendaraan\n",
    "\n",
    "4. Clean Alternative Fuel Vehicle (CAFV) Eligibility=>\n",
    "   \n",
    "mengacu pada kelayakan atau persyaratan yang harus dipenuhi oleh kendaraan untuk dianggap sebagai kendaraan dengan bahan bakar alternatif bersih (Clean Alternative Fuel Vehicle)\n",
    "\n",
    "5. Electric Range=>\n",
    "   \n",
    "merujuk pada jarak maksimum yang dapat ditempuh oleh kendaraan listrik dengan satu kali pengisian daya baterai penuh\n",
    "\n",
    "6. Base MSRP=>\n",
    "   \n",
    "merujuk pada harga eceran yang disarankan oleh produsen kendaraan sebagai harga awal atau dasar untuk unit kendaraan baru sebelum mempertimbangkan tambahan atau opsi tambahan yang dapat dipilih oleh konsumen\n",
    "\n",
    "7. Electric Utility=>\n",
    "   \n",
    "mengacu pada perusahaan atau lembaga yang bertanggung jawab atas produksi, transmisi, distribusi, dan penjualan listrik kepada konsumen"
   ]
  },
  {
   "cell_type": "code",
   "execution_count": 6,
   "id": "b5b94d2d",
   "metadata": {
    "scrolled": true
   },
   "outputs": [],
   "source": [
    "# mengganti nama kolom\n",
    "df.columns = ['Year', 'Brand', 'Category', 'Alternative Fuel', 'Range', 'Manufacturer', 'Electric Utility']"
   ]
  },
  {
   "cell_type": "code",
   "execution_count": 7,
   "id": "0aee3148",
   "metadata": {},
   "outputs": [
    {
     "data": {
      "text/html": [
       "<div>\n",
       "<style scoped>\n",
       "    .dataframe tbody tr th:only-of-type {\n",
       "        vertical-align: middle;\n",
       "    }\n",
       "\n",
       "    .dataframe tbody tr th {\n",
       "        vertical-align: top;\n",
       "    }\n",
       "\n",
       "    .dataframe thead th {\n",
       "        text-align: right;\n",
       "    }\n",
       "</style>\n",
       "<table border=\"1\" class=\"dataframe\">\n",
       "  <thead>\n",
       "    <tr style=\"text-align: right;\">\n",
       "      <th></th>\n",
       "      <th>Year</th>\n",
       "      <th>Brand</th>\n",
       "      <th>Category</th>\n",
       "      <th>Alternative Fuel</th>\n",
       "      <th>Range</th>\n",
       "      <th>Manufacturer</th>\n",
       "      <th>Electric Utility</th>\n",
       "    </tr>\n",
       "  </thead>\n",
       "  <tbody>\n",
       "    <tr>\n",
       "      <th>0</th>\n",
       "      <td>2020</td>\n",
       "      <td>TESLA</td>\n",
       "      <td>Battery Electric Vehicle (BEV)</td>\n",
       "      <td>Clean Alternative Fuel Vehicle Eligible</td>\n",
       "      <td>322</td>\n",
       "      <td>0</td>\n",
       "      <td>PACIFICORP</td>\n",
       "    </tr>\n",
       "    <tr>\n",
       "      <th>1</th>\n",
       "      <td>2019</td>\n",
       "      <td>TESLA</td>\n",
       "      <td>Battery Electric Vehicle (BEV)</td>\n",
       "      <td>Clean Alternative Fuel Vehicle Eligible</td>\n",
       "      <td>220</td>\n",
       "      <td>0</td>\n",
       "      <td>NaN</td>\n",
       "    </tr>\n",
       "    <tr>\n",
       "      <th>2</th>\n",
       "      <td>2021</td>\n",
       "      <td>VOLVO</td>\n",
       "      <td>Plug-in Hybrid Electric Vehicle (PHEV)</td>\n",
       "      <td>Not eligible due to low battery range</td>\n",
       "      <td>22</td>\n",
       "      <td>0</td>\n",
       "      <td>NaN</td>\n",
       "    </tr>\n",
       "    <tr>\n",
       "      <th>3</th>\n",
       "      <td>2019</td>\n",
       "      <td>TESLA</td>\n",
       "      <td>Battery Electric Vehicle (BEV)</td>\n",
       "      <td>Clean Alternative Fuel Vehicle Eligible</td>\n",
       "      <td>289</td>\n",
       "      <td>0</td>\n",
       "      <td>PACIFICORP</td>\n",
       "    </tr>\n",
       "    <tr>\n",
       "      <th>4</th>\n",
       "      <td>2017</td>\n",
       "      <td>BMW</td>\n",
       "      <td>Plug-in Hybrid Electric Vehicle (PHEV)</td>\n",
       "      <td>Not eligible due to low battery range</td>\n",
       "      <td>14</td>\n",
       "      <td>0</td>\n",
       "      <td>PUGET SOUND ENERGY INC</td>\n",
       "    </tr>\n",
       "    <tr>\n",
       "      <th>...</th>\n",
       "      <td>...</td>\n",
       "      <td>...</td>\n",
       "      <td>...</td>\n",
       "      <td>...</td>\n",
       "      <td>...</td>\n",
       "      <td>...</td>\n",
       "      <td>...</td>\n",
       "    </tr>\n",
       "    <tr>\n",
       "      <th>124711</th>\n",
       "      <td>2022</td>\n",
       "      <td>TESLA</td>\n",
       "      <td>Battery Electric Vehicle (BEV)</td>\n",
       "      <td>Eligibility unknown as battery range has not b...</td>\n",
       "      <td>0</td>\n",
       "      <td>0</td>\n",
       "      <td>PUGET SOUND ENERGY INC</td>\n",
       "    </tr>\n",
       "    <tr>\n",
       "      <th>124712</th>\n",
       "      <td>2020</td>\n",
       "      <td>KIA</td>\n",
       "      <td>Plug-in Hybrid Electric Vehicle (PHEV)</td>\n",
       "      <td>Not eligible due to low battery range</td>\n",
       "      <td>26</td>\n",
       "      <td>0</td>\n",
       "      <td>BONNEVILLE POWER ADMINISTRATION||CITY OF TACOM...</td>\n",
       "    </tr>\n",
       "    <tr>\n",
       "      <th>124713</th>\n",
       "      <td>2023</td>\n",
       "      <td>TESLA</td>\n",
       "      <td>Battery Electric Vehicle (BEV)</td>\n",
       "      <td>Eligibility unknown as battery range has not b...</td>\n",
       "      <td>0</td>\n",
       "      <td>0</td>\n",
       "      <td>PUGET SOUND ENERGY INC||PUD NO 1 OF WHATCOM CO...</td>\n",
       "    </tr>\n",
       "    <tr>\n",
       "      <th>124714</th>\n",
       "      <td>2018</td>\n",
       "      <td>CHEVROLET</td>\n",
       "      <td>Battery Electric Vehicle (BEV)</td>\n",
       "      <td>Clean Alternative Fuel Vehicle Eligible</td>\n",
       "      <td>238</td>\n",
       "      <td>0</td>\n",
       "      <td>BONNEVILLE POWER ADMINISTRATION||CITY OF TACOM...</td>\n",
       "    </tr>\n",
       "    <tr>\n",
       "      <th>124715</th>\n",
       "      <td>2015</td>\n",
       "      <td>CHEVROLET</td>\n",
       "      <td>Plug-in Hybrid Electric Vehicle (PHEV)</td>\n",
       "      <td>Clean Alternative Fuel Vehicle Eligible</td>\n",
       "      <td>38</td>\n",
       "      <td>0</td>\n",
       "      <td>BONNEVILLE POWER ADMINISTRATION||PUD NO 1 OF B...</td>\n",
       "    </tr>\n",
       "  </tbody>\n",
       "</table>\n",
       "<p>124716 rows × 7 columns</p>\n",
       "</div>"
      ],
      "text/plain": [
       "        Year      Brand                                Category  \\\n",
       "0       2020      TESLA          Battery Electric Vehicle (BEV)   \n",
       "1       2019      TESLA          Battery Electric Vehicle (BEV)   \n",
       "2       2021      VOLVO  Plug-in Hybrid Electric Vehicle (PHEV)   \n",
       "3       2019      TESLA          Battery Electric Vehicle (BEV)   \n",
       "4       2017        BMW  Plug-in Hybrid Electric Vehicle (PHEV)   \n",
       "...      ...        ...                                     ...   \n",
       "124711  2022      TESLA          Battery Electric Vehicle (BEV)   \n",
       "124712  2020        KIA  Plug-in Hybrid Electric Vehicle (PHEV)   \n",
       "124713  2023      TESLA          Battery Electric Vehicle (BEV)   \n",
       "124714  2018  CHEVROLET          Battery Electric Vehicle (BEV)   \n",
       "124715  2015  CHEVROLET  Plug-in Hybrid Electric Vehicle (PHEV)   \n",
       "\n",
       "                                         Alternative Fuel  Range  \\\n",
       "0                 Clean Alternative Fuel Vehicle Eligible    322   \n",
       "1                 Clean Alternative Fuel Vehicle Eligible    220   \n",
       "2                   Not eligible due to low battery range     22   \n",
       "3                 Clean Alternative Fuel Vehicle Eligible    289   \n",
       "4                   Not eligible due to low battery range     14   \n",
       "...                                                   ...    ...   \n",
       "124711  Eligibility unknown as battery range has not b...      0   \n",
       "124712              Not eligible due to low battery range     26   \n",
       "124713  Eligibility unknown as battery range has not b...      0   \n",
       "124714            Clean Alternative Fuel Vehicle Eligible    238   \n",
       "124715            Clean Alternative Fuel Vehicle Eligible     38   \n",
       "\n",
       "        Manufacturer                                   Electric Utility  \n",
       "0                  0                                         PACIFICORP  \n",
       "1                  0                                                NaN  \n",
       "2                  0                                                NaN  \n",
       "3                  0                                         PACIFICORP  \n",
       "4                  0                             PUGET SOUND ENERGY INC  \n",
       "...              ...                                                ...  \n",
       "124711             0                             PUGET SOUND ENERGY INC  \n",
       "124712             0  BONNEVILLE POWER ADMINISTRATION||CITY OF TACOM...  \n",
       "124713             0  PUGET SOUND ENERGY INC||PUD NO 1 OF WHATCOM CO...  \n",
       "124714             0  BONNEVILLE POWER ADMINISTRATION||CITY OF TACOM...  \n",
       "124715             0  BONNEVILLE POWER ADMINISTRATION||PUD NO 1 OF B...  \n",
       "\n",
       "[124716 rows x 7 columns]"
      ]
     },
     "execution_count": 7,
     "metadata": {},
     "output_type": "execute_result"
    }
   ],
   "source": [
    "df"
   ]
  },
  {
   "cell_type": "code",
   "execution_count": 8,
   "id": "ad377685",
   "metadata": {
    "scrolled": true
   },
   "outputs": [
    {
     "name": "stdout",
     "output_type": "stream",
     "text": [
      "<class 'pandas.core.frame.DataFrame'>\n",
      "RangeIndex: 124716 entries, 0 to 124715\n",
      "Data columns (total 7 columns):\n",
      " #   Column            Non-Null Count   Dtype \n",
      "---  ------            --------------   ----- \n",
      " 0   Year              124716 non-null  int64 \n",
      " 1   Brand             124716 non-null  object\n",
      " 2   Category          124716 non-null  object\n",
      " 3   Alternative Fuel  124716 non-null  object\n",
      " 4   Range             124716 non-null  int64 \n",
      " 5   Manufacturer      124716 non-null  int64 \n",
      " 6   Electric Utility  124243 non-null  object\n",
      "dtypes: int64(3), object(4)\n",
      "memory usage: 6.7+ MB\n"
     ]
    }
   ],
   "source": [
    "# memeriksa info data\n",
    "df.info()"
   ]
  },
  {
   "cell_type": "code",
   "execution_count": 9,
   "id": "bb5cbbc4",
   "metadata": {},
   "outputs": [
    {
     "data": {
      "text/plain": [
       "Year                  0\n",
       "Brand                 0\n",
       "Category              0\n",
       "Alternative Fuel      0\n",
       "Range                 0\n",
       "Manufacturer          0\n",
       "Electric Utility    473\n",
       "dtype: int64"
      ]
     },
     "execution_count": 9,
     "metadata": {},
     "output_type": "execute_result"
    }
   ],
   "source": [
    "# mengecek missing value\n",
    "df.isnull().sum()"
   ]
  },
  {
   "cell_type": "code",
   "execution_count": 10,
   "id": "5dfd14a5",
   "metadata": {},
   "outputs": [],
   "source": [
    "# menghapus baris yg berisi missing value\n",
    "df = df.dropna()"
   ]
  },
  {
   "cell_type": "code",
   "execution_count": 11,
   "id": "41c3b8c0",
   "metadata": {
    "scrolled": true
   },
   "outputs": [
    {
     "data": {
      "text/plain": [
       "Year                0\n",
       "Brand               0\n",
       "Category            0\n",
       "Alternative Fuel    0\n",
       "Range               0\n",
       "Manufacturer        0\n",
       "Electric Utility    0\n",
       "dtype: int64"
      ]
     },
     "execution_count": 11,
     "metadata": {},
     "output_type": "execute_result"
    }
   ],
   "source": [
    "# mengecek kembali missing value\n",
    "df.isnull().sum()"
   ]
  },
  {
   "cell_type": "code",
   "execution_count": 12,
   "id": "ec9a530a",
   "metadata": {
    "scrolled": false
   },
   "outputs": [
    {
     "data": {
      "text/plain": [
       "117819"
      ]
     },
     "execution_count": 12,
     "metadata": {},
     "output_type": "execute_result"
    }
   ],
   "source": [
    "# mengecek duplikat\n",
    "df.duplicated().sum()"
   ]
  },
  {
   "cell_type": "code",
   "execution_count": 13,
   "id": "7ef92221",
   "metadata": {},
   "outputs": [
    {
     "data": {
      "text/plain": [
       "0"
      ]
     },
     "execution_count": 13,
     "metadata": {},
     "output_type": "execute_result"
    }
   ],
   "source": [
    "# menghapus baris yg berisi duplikat\n",
    "df = df.drop_duplicates()\n",
    "df.duplicated().sum()"
   ]
  },
  {
   "cell_type": "code",
   "execution_count": 14,
   "id": "a61a1d5c",
   "metadata": {
    "scrolled": false
   },
   "outputs": [
    {
     "data": {
      "text/html": [
       "<div>\n",
       "<style scoped>\n",
       "    .dataframe tbody tr th:only-of-type {\n",
       "        vertical-align: middle;\n",
       "    }\n",
       "\n",
       "    .dataframe tbody tr th {\n",
       "        vertical-align: top;\n",
       "    }\n",
       "\n",
       "    .dataframe thead th {\n",
       "        text-align: right;\n",
       "    }\n",
       "</style>\n",
       "<table border=\"1\" class=\"dataframe\">\n",
       "  <thead>\n",
       "    <tr style=\"text-align: right;\">\n",
       "      <th></th>\n",
       "      <th>Year</th>\n",
       "      <th>Brand</th>\n",
       "      <th>Category</th>\n",
       "      <th>Alternative Fuel</th>\n",
       "      <th>Range</th>\n",
       "      <th>Manufacturer</th>\n",
       "      <th>Electric Utility</th>\n",
       "    </tr>\n",
       "  </thead>\n",
       "  <tbody>\n",
       "    <tr>\n",
       "      <th>0</th>\n",
       "      <td>2020</td>\n",
       "      <td>TESLA</td>\n",
       "      <td>Battery Electric Vehicle (BEV)</td>\n",
       "      <td>Clean Alternative Fuel Vehicle Eligible</td>\n",
       "      <td>322</td>\n",
       "      <td>0</td>\n",
       "      <td>PACIFICORP</td>\n",
       "    </tr>\n",
       "    <tr>\n",
       "      <th>3</th>\n",
       "      <td>2019</td>\n",
       "      <td>TESLA</td>\n",
       "      <td>Battery Electric Vehicle (BEV)</td>\n",
       "      <td>Clean Alternative Fuel Vehicle Eligible</td>\n",
       "      <td>289</td>\n",
       "      <td>0</td>\n",
       "      <td>PACIFICORP</td>\n",
       "    </tr>\n",
       "    <tr>\n",
       "      <th>4</th>\n",
       "      <td>2017</td>\n",
       "      <td>BMW</td>\n",
       "      <td>Plug-in Hybrid Electric Vehicle (PHEV)</td>\n",
       "      <td>Not eligible due to low battery range</td>\n",
       "      <td>14</td>\n",
       "      <td>0</td>\n",
       "      <td>PUGET SOUND ENERGY INC</td>\n",
       "    </tr>\n",
       "    <tr>\n",
       "      <th>5</th>\n",
       "      <td>2015</td>\n",
       "      <td>NISSAN</td>\n",
       "      <td>Battery Electric Vehicle (BEV)</td>\n",
       "      <td>Clean Alternative Fuel Vehicle Eligible</td>\n",
       "      <td>84</td>\n",
       "      <td>0</td>\n",
       "      <td>PUGET SOUND ENERGY INC</td>\n",
       "    </tr>\n",
       "    <tr>\n",
       "      <th>6</th>\n",
       "      <td>2018</td>\n",
       "      <td>TESLA</td>\n",
       "      <td>Battery Electric Vehicle (BEV)</td>\n",
       "      <td>Clean Alternative Fuel Vehicle Eligible</td>\n",
       "      <td>215</td>\n",
       "      <td>0</td>\n",
       "      <td>PUGET SOUND ENERGY INC</td>\n",
       "    </tr>\n",
       "  </tbody>\n",
       "</table>\n",
       "</div>"
      ],
      "text/plain": [
       "   Year   Brand                                Category  \\\n",
       "0  2020   TESLA          Battery Electric Vehicle (BEV)   \n",
       "3  2019   TESLA          Battery Electric Vehicle (BEV)   \n",
       "4  2017     BMW  Plug-in Hybrid Electric Vehicle (PHEV)   \n",
       "5  2015  NISSAN          Battery Electric Vehicle (BEV)   \n",
       "6  2018   TESLA          Battery Electric Vehicle (BEV)   \n",
       "\n",
       "                          Alternative Fuel  Range  Manufacturer  \\\n",
       "0  Clean Alternative Fuel Vehicle Eligible    322             0   \n",
       "3  Clean Alternative Fuel Vehicle Eligible    289             0   \n",
       "4    Not eligible due to low battery range     14             0   \n",
       "5  Clean Alternative Fuel Vehicle Eligible     84             0   \n",
       "6  Clean Alternative Fuel Vehicle Eligible    215             0   \n",
       "\n",
       "         Electric Utility  \n",
       "0              PACIFICORP  \n",
       "3              PACIFICORP  \n",
       "4  PUGET SOUND ENERGY INC  \n",
       "5  PUGET SOUND ENERGY INC  \n",
       "6  PUGET SOUND ENERGY INC  "
      ]
     },
     "execution_count": 14,
     "metadata": {},
     "output_type": "execute_result"
    }
   ],
   "source": [
    "df.head()"
   ]
  },
  {
   "cell_type": "code",
   "execution_count": 15,
   "id": "e70617e4",
   "metadata": {
    "scrolled": false
   },
   "outputs": [
    {
     "name": "stdout",
     "output_type": "stream",
     "text": [
      "        Year      Brand                                Category  \\\n",
      "0       2020      TESLA          Battery Electric Vehicle (BEV)   \n",
      "3       2019      TESLA          Battery Electric Vehicle (BEV)   \n",
      "4       2017        BMW  Plug-in Hybrid Electric Vehicle (PHEV)   \n",
      "5       2015     NISSAN          Battery Electric Vehicle (BEV)   \n",
      "6       2018      TESLA          Battery Electric Vehicle (BEV)   \n",
      "...      ...        ...                                     ...   \n",
      "124616  2023        BMW  Plug-in Hybrid Electric Vehicle (PHEV)   \n",
      "124668  2022        KIA          Battery Electric Vehicle (BEV)   \n",
      "124694  2020      TESLA          Battery Electric Vehicle (BEV)   \n",
      "124702  2014  CHEVROLET          Battery Electric Vehicle (BEV)   \n",
      "124714  2018  CHEVROLET          Battery Electric Vehicle (BEV)   \n",
      "\n",
      "                                         Alternative Fuel  Range  \\\n",
      "0                 Clean Alternative Fuel Vehicle Eligible    322   \n",
      "3                 Clean Alternative Fuel Vehicle Eligible    289   \n",
      "4                   Not eligible due to low battery range     14   \n",
      "5                 Clean Alternative Fuel Vehicle Eligible     84   \n",
      "6                 Clean Alternative Fuel Vehicle Eligible    215   \n",
      "...                                                   ...    ...   \n",
      "124616            Clean Alternative Fuel Vehicle Eligible     30   \n",
      "124668  Eligibility unknown as battery range has not b...      0   \n",
      "124694            Clean Alternative Fuel Vehicle Eligible    322   \n",
      "124702            Clean Alternative Fuel Vehicle Eligible     82   \n",
      "124714            Clean Alternative Fuel Vehicle Eligible    238   \n",
      "\n",
      "        Manufacturer                                   Electric Utility  Age  \n",
      "0                  0                                         PACIFICORP    3  \n",
      "3                  0                                         PACIFICORP    4  \n",
      "4                  0                             PUGET SOUND ENERGY INC    6  \n",
      "5                  0                             PUGET SOUND ENERGY INC    8  \n",
      "6                  0                             PUGET SOUND ENERGY INC    5  \n",
      "...              ...                                                ...  ...  \n",
      "124616             0  BONNEVILLE POWER ADMINISTRATION||PUD NO 1 OF F...    0  \n",
      "124668             0  BONNEVILLE POWER ADMINISTRATION||BIG BEND ELEC...    1  \n",
      "124694             0  BONNEVILLE POWER ADMINISTRATION||CITY OF TACOM...    3  \n",
      "124702             0  BONNEVILLE POWER ADMINISTRATION||PUD NO 1 OF C...    9  \n",
      "124714             0  BONNEVILLE POWER ADMINISTRATION||CITY OF TACOM...    5  \n",
      "\n",
      "[6424 rows x 8 columns]\n"
     ]
    }
   ],
   "source": [
    "# Calculate the current year\n",
    "current_year = datetime.now().year\n",
    "\n",
    "# Calculate the age of the vehicle by subtracting the year of manufacture from the current year\n",
    "df['Age'] = current_year - df['Year']\n",
    "\n",
    "# Print the updated dataframe\n",
    "print(df)"
   ]
  },
  {
   "cell_type": "code",
   "execution_count": 16,
   "id": "e856d717",
   "metadata": {
    "scrolled": false
   },
   "outputs": [
    {
     "data": {
      "text/html": [
       "<div>\n",
       "<style scoped>\n",
       "    .dataframe tbody tr th:only-of-type {\n",
       "        vertical-align: middle;\n",
       "    }\n",
       "\n",
       "    .dataframe tbody tr th {\n",
       "        vertical-align: top;\n",
       "    }\n",
       "\n",
       "    .dataframe thead th {\n",
       "        text-align: right;\n",
       "    }\n",
       "</style>\n",
       "<table border=\"1\" class=\"dataframe\">\n",
       "  <thead>\n",
       "    <tr style=\"text-align: right;\">\n",
       "      <th></th>\n",
       "      <th>Brand</th>\n",
       "      <th>Category</th>\n",
       "      <th>Alternative Fuel</th>\n",
       "      <th>Range</th>\n",
       "      <th>Manufacturer</th>\n",
       "      <th>Electric Utility</th>\n",
       "      <th>Age</th>\n",
       "    </tr>\n",
       "  </thead>\n",
       "  <tbody>\n",
       "    <tr>\n",
       "      <th>0</th>\n",
       "      <td>TESLA</td>\n",
       "      <td>Battery Electric Vehicle (BEV)</td>\n",
       "      <td>Clean Alternative Fuel Vehicle Eligible</td>\n",
       "      <td>322</td>\n",
       "      <td>0</td>\n",
       "      <td>PACIFICORP</td>\n",
       "      <td>3</td>\n",
       "    </tr>\n",
       "    <tr>\n",
       "      <th>3</th>\n",
       "      <td>TESLA</td>\n",
       "      <td>Battery Electric Vehicle (BEV)</td>\n",
       "      <td>Clean Alternative Fuel Vehicle Eligible</td>\n",
       "      <td>289</td>\n",
       "      <td>0</td>\n",
       "      <td>PACIFICORP</td>\n",
       "      <td>4</td>\n",
       "    </tr>\n",
       "    <tr>\n",
       "      <th>4</th>\n",
       "      <td>BMW</td>\n",
       "      <td>Plug-in Hybrid Electric Vehicle (PHEV)</td>\n",
       "      <td>Not eligible due to low battery range</td>\n",
       "      <td>14</td>\n",
       "      <td>0</td>\n",
       "      <td>PUGET SOUND ENERGY INC</td>\n",
       "      <td>6</td>\n",
       "    </tr>\n",
       "    <tr>\n",
       "      <th>5</th>\n",
       "      <td>NISSAN</td>\n",
       "      <td>Battery Electric Vehicle (BEV)</td>\n",
       "      <td>Clean Alternative Fuel Vehicle Eligible</td>\n",
       "      <td>84</td>\n",
       "      <td>0</td>\n",
       "      <td>PUGET SOUND ENERGY INC</td>\n",
       "      <td>8</td>\n",
       "    </tr>\n",
       "    <tr>\n",
       "      <th>6</th>\n",
       "      <td>TESLA</td>\n",
       "      <td>Battery Electric Vehicle (BEV)</td>\n",
       "      <td>Clean Alternative Fuel Vehicle Eligible</td>\n",
       "      <td>215</td>\n",
       "      <td>0</td>\n",
       "      <td>PUGET SOUND ENERGY INC</td>\n",
       "      <td>5</td>\n",
       "    </tr>\n",
       "    <tr>\n",
       "      <th>...</th>\n",
       "      <td>...</td>\n",
       "      <td>...</td>\n",
       "      <td>...</td>\n",
       "      <td>...</td>\n",
       "      <td>...</td>\n",
       "      <td>...</td>\n",
       "      <td>...</td>\n",
       "    </tr>\n",
       "    <tr>\n",
       "      <th>124616</th>\n",
       "      <td>BMW</td>\n",
       "      <td>Plug-in Hybrid Electric Vehicle (PHEV)</td>\n",
       "      <td>Clean Alternative Fuel Vehicle Eligible</td>\n",
       "      <td>30</td>\n",
       "      <td>0</td>\n",
       "      <td>BONNEVILLE POWER ADMINISTRATION||PUD NO 1 OF F...</td>\n",
       "      <td>0</td>\n",
       "    </tr>\n",
       "    <tr>\n",
       "      <th>124668</th>\n",
       "      <td>KIA</td>\n",
       "      <td>Battery Electric Vehicle (BEV)</td>\n",
       "      <td>Eligibility unknown as battery range has not b...</td>\n",
       "      <td>0</td>\n",
       "      <td>0</td>\n",
       "      <td>BONNEVILLE POWER ADMINISTRATION||BIG BEND ELEC...</td>\n",
       "      <td>1</td>\n",
       "    </tr>\n",
       "    <tr>\n",
       "      <th>124694</th>\n",
       "      <td>TESLA</td>\n",
       "      <td>Battery Electric Vehicle (BEV)</td>\n",
       "      <td>Clean Alternative Fuel Vehicle Eligible</td>\n",
       "      <td>322</td>\n",
       "      <td>0</td>\n",
       "      <td>BONNEVILLE POWER ADMINISTRATION||CITY OF TACOM...</td>\n",
       "      <td>3</td>\n",
       "    </tr>\n",
       "    <tr>\n",
       "      <th>124702</th>\n",
       "      <td>CHEVROLET</td>\n",
       "      <td>Battery Electric Vehicle (BEV)</td>\n",
       "      <td>Clean Alternative Fuel Vehicle Eligible</td>\n",
       "      <td>82</td>\n",
       "      <td>0</td>\n",
       "      <td>BONNEVILLE POWER ADMINISTRATION||PUD NO 1 OF C...</td>\n",
       "      <td>9</td>\n",
       "    </tr>\n",
       "    <tr>\n",
       "      <th>124714</th>\n",
       "      <td>CHEVROLET</td>\n",
       "      <td>Battery Electric Vehicle (BEV)</td>\n",
       "      <td>Clean Alternative Fuel Vehicle Eligible</td>\n",
       "      <td>238</td>\n",
       "      <td>0</td>\n",
       "      <td>BONNEVILLE POWER ADMINISTRATION||CITY OF TACOM...</td>\n",
       "      <td>5</td>\n",
       "    </tr>\n",
       "  </tbody>\n",
       "</table>\n",
       "<p>6424 rows × 7 columns</p>\n",
       "</div>"
      ],
      "text/plain": [
       "            Brand                                Category  \\\n",
       "0           TESLA          Battery Electric Vehicle (BEV)   \n",
       "3           TESLA          Battery Electric Vehicle (BEV)   \n",
       "4             BMW  Plug-in Hybrid Electric Vehicle (PHEV)   \n",
       "5          NISSAN          Battery Electric Vehicle (BEV)   \n",
       "6           TESLA          Battery Electric Vehicle (BEV)   \n",
       "...           ...                                     ...   \n",
       "124616        BMW  Plug-in Hybrid Electric Vehicle (PHEV)   \n",
       "124668        KIA          Battery Electric Vehicle (BEV)   \n",
       "124694      TESLA          Battery Electric Vehicle (BEV)   \n",
       "124702  CHEVROLET          Battery Electric Vehicle (BEV)   \n",
       "124714  CHEVROLET          Battery Electric Vehicle (BEV)   \n",
       "\n",
       "                                         Alternative Fuel  Range  \\\n",
       "0                 Clean Alternative Fuel Vehicle Eligible    322   \n",
       "3                 Clean Alternative Fuel Vehicle Eligible    289   \n",
       "4                   Not eligible due to low battery range     14   \n",
       "5                 Clean Alternative Fuel Vehicle Eligible     84   \n",
       "6                 Clean Alternative Fuel Vehicle Eligible    215   \n",
       "...                                                   ...    ...   \n",
       "124616            Clean Alternative Fuel Vehicle Eligible     30   \n",
       "124668  Eligibility unknown as battery range has not b...      0   \n",
       "124694            Clean Alternative Fuel Vehicle Eligible    322   \n",
       "124702            Clean Alternative Fuel Vehicle Eligible     82   \n",
       "124714            Clean Alternative Fuel Vehicle Eligible    238   \n",
       "\n",
       "        Manufacturer                                   Electric Utility  Age  \n",
       "0                  0                                         PACIFICORP    3  \n",
       "3                  0                                         PACIFICORP    4  \n",
       "4                  0                             PUGET SOUND ENERGY INC    6  \n",
       "5                  0                             PUGET SOUND ENERGY INC    8  \n",
       "6                  0                             PUGET SOUND ENERGY INC    5  \n",
       "...              ...                                                ...  ...  \n",
       "124616             0  BONNEVILLE POWER ADMINISTRATION||PUD NO 1 OF F...    0  \n",
       "124668             0  BONNEVILLE POWER ADMINISTRATION||BIG BEND ELEC...    1  \n",
       "124694             0  BONNEVILLE POWER ADMINISTRATION||CITY OF TACOM...    3  \n",
       "124702             0  BONNEVILLE POWER ADMINISTRATION||PUD NO 1 OF C...    9  \n",
       "124714             0  BONNEVILLE POWER ADMINISTRATION||CITY OF TACOM...    5  \n",
       "\n",
       "[6424 rows x 7 columns]"
      ]
     },
     "execution_count": 16,
     "metadata": {},
     "output_type": "execute_result"
    }
   ],
   "source": [
    "# mendrop kolom year\n",
    "df.drop(columns='Year', axis=1)"
   ]
  },
  {
   "cell_type": "code",
   "execution_count": 17,
   "id": "f412259f",
   "metadata": {},
   "outputs": [
    {
     "data": {
      "text/plain": [
       "0"
      ]
     },
     "execution_count": 17,
     "metadata": {},
     "output_type": "execute_result"
    }
   ],
   "source": [
    "# mengecek duplikat\n",
    "df.duplicated().sum()"
   ]
  },
  {
   "cell_type": "code",
   "execution_count": 18,
   "id": "25edb71b",
   "metadata": {},
   "outputs": [],
   "source": [
    "# mengatur ulang ururtan kolom\n",
    "df = df.loc[:, ['Range', 'Brand', 'Category', 'Alternative Fuel', 'Manufacturer',  'Electric Utility', 'Age']]"
   ]
  },
  {
   "cell_type": "code",
   "execution_count": 19,
   "id": "c18c73ed",
   "metadata": {},
   "outputs": [],
   "source": [
    "# mengubah nama item pada kolom Alternative fuel\n",
    "df['Alternative Fuel'] = df['Alternative Fuel'].replace('Clean Alternative Fuel Vehicle Eligible', 'Vehicle Eligible')\n",
    "df['Alternative Fuel'] = df['Alternative Fuel'].replace('Eligibility unknown as battery range has not been researched', 'Eligibility unknown')\n",
    "df['Alternative Fuel'] = df['Alternative Fuel'].replace('Not eligible due to low battery range', 'Not eligible')"
   ]
  },
  {
   "cell_type": "code",
   "execution_count": 20,
   "id": "3ee487d2",
   "metadata": {},
   "outputs": [],
   "source": [
    "# mengubah nama item pada kolom category\n",
    "df['Category'] = df['Category'].replace('Battery Electric Vehicle (BEV)', 'BEV')\n",
    "df['Category'] = df['Category'].replace('Plug-in Hybrid Electric Vehicle (PHEV)', 'PHEV')"
   ]
  },
  {
   "cell_type": "code",
   "execution_count": 21,
   "id": "637bdbda",
   "metadata": {},
   "outputs": [
    {
     "data": {
      "text/html": [
       "<div>\n",
       "<style scoped>\n",
       "    .dataframe tbody tr th:only-of-type {\n",
       "        vertical-align: middle;\n",
       "    }\n",
       "\n",
       "    .dataframe tbody tr th {\n",
       "        vertical-align: top;\n",
       "    }\n",
       "\n",
       "    .dataframe thead th {\n",
       "        text-align: right;\n",
       "    }\n",
       "</style>\n",
       "<table border=\"1\" class=\"dataframe\">\n",
       "  <thead>\n",
       "    <tr style=\"text-align: right;\">\n",
       "      <th></th>\n",
       "      <th>Range</th>\n",
       "      <th>Brand</th>\n",
       "      <th>Category</th>\n",
       "      <th>Alternative Fuel</th>\n",
       "      <th>Manufacturer</th>\n",
       "      <th>Electric Utility</th>\n",
       "      <th>Age</th>\n",
       "    </tr>\n",
       "  </thead>\n",
       "  <tbody>\n",
       "    <tr>\n",
       "      <th>0</th>\n",
       "      <td>322</td>\n",
       "      <td>TESLA</td>\n",
       "      <td>BEV</td>\n",
       "      <td>Vehicle Eligible</td>\n",
       "      <td>0</td>\n",
       "      <td>PACIFICORP</td>\n",
       "      <td>3</td>\n",
       "    </tr>\n",
       "    <tr>\n",
       "      <th>3</th>\n",
       "      <td>289</td>\n",
       "      <td>TESLA</td>\n",
       "      <td>BEV</td>\n",
       "      <td>Vehicle Eligible</td>\n",
       "      <td>0</td>\n",
       "      <td>PACIFICORP</td>\n",
       "      <td>4</td>\n",
       "    </tr>\n",
       "    <tr>\n",
       "      <th>4</th>\n",
       "      <td>14</td>\n",
       "      <td>BMW</td>\n",
       "      <td>PHEV</td>\n",
       "      <td>Not eligible</td>\n",
       "      <td>0</td>\n",
       "      <td>PUGET SOUND ENERGY INC</td>\n",
       "      <td>6</td>\n",
       "    </tr>\n",
       "    <tr>\n",
       "      <th>5</th>\n",
       "      <td>84</td>\n",
       "      <td>NISSAN</td>\n",
       "      <td>BEV</td>\n",
       "      <td>Vehicle Eligible</td>\n",
       "      <td>0</td>\n",
       "      <td>PUGET SOUND ENERGY INC</td>\n",
       "      <td>8</td>\n",
       "    </tr>\n",
       "    <tr>\n",
       "      <th>6</th>\n",
       "      <td>215</td>\n",
       "      <td>TESLA</td>\n",
       "      <td>BEV</td>\n",
       "      <td>Vehicle Eligible</td>\n",
       "      <td>0</td>\n",
       "      <td>PUGET SOUND ENERGY INC</td>\n",
       "      <td>5</td>\n",
       "    </tr>\n",
       "  </tbody>\n",
       "</table>\n",
       "</div>"
      ],
      "text/plain": [
       "   Range   Brand Category  Alternative Fuel  Manufacturer  \\\n",
       "0    322   TESLA      BEV  Vehicle Eligible             0   \n",
       "3    289   TESLA      BEV  Vehicle Eligible             0   \n",
       "4     14     BMW     PHEV      Not eligible             0   \n",
       "5     84  NISSAN      BEV  Vehicle Eligible             0   \n",
       "6    215   TESLA      BEV  Vehicle Eligible             0   \n",
       "\n",
       "         Electric Utility  Age  \n",
       "0              PACIFICORP    3  \n",
       "3              PACIFICORP    4  \n",
       "4  PUGET SOUND ENERGY INC    6  \n",
       "5  PUGET SOUND ENERGY INC    8  \n",
       "6  PUGET SOUND ENERGY INC    5  "
      ]
     },
     "execution_count": 21,
     "metadata": {},
     "output_type": "execute_result"
    }
   ],
   "source": [
    "df.head()"
   ]
  },
  {
   "cell_type": "code",
   "execution_count": 22,
   "id": "a8ce7c8f",
   "metadata": {},
   "outputs": [
    {
     "data": {
      "text/plain": [
       "(6424, 7)"
      ]
     },
     "execution_count": 22,
     "metadata": {},
     "output_type": "execute_result"
    }
   ],
   "source": [
    "# mengecek komposisi dataset\n",
    "df.shape"
   ]
  },
  {
   "cell_type": "code",
   "execution_count": 23,
   "id": "eff65c24",
   "metadata": {
    "scrolled": true
   },
   "outputs": [
    {
     "data": {
      "text/plain": [
       "Range               101\n",
       "Brand                35\n",
       "Category              2\n",
       "Alternative Fuel      3\n",
       "Manufacturer         31\n",
       "Electric Utility     73\n",
       "Age                  21\n",
       "dtype: int64"
      ]
     },
     "execution_count": 23,
     "metadata": {},
     "output_type": "execute_result"
    }
   ],
   "source": [
    "# mengecek jumlah data unik pada setiap kolom\n",
    "df.nunique()"
   ]
  },
  {
   "cell_type": "code",
   "execution_count": 24,
   "id": "d226c711",
   "metadata": {},
   "outputs": [
    {
     "data": {
      "text/html": [
       "<div>\n",
       "<style scoped>\n",
       "    .dataframe tbody tr th:only-of-type {\n",
       "        vertical-align: middle;\n",
       "    }\n",
       "\n",
       "    .dataframe tbody tr th {\n",
       "        vertical-align: top;\n",
       "    }\n",
       "\n",
       "    .dataframe thead th {\n",
       "        text-align: right;\n",
       "    }\n",
       "</style>\n",
       "<table border=\"1\" class=\"dataframe\">\n",
       "  <thead>\n",
       "    <tr style=\"text-align: right;\">\n",
       "      <th></th>\n",
       "      <th>Range</th>\n",
       "      <th>Brand</th>\n",
       "      <th>Category</th>\n",
       "      <th>Alternative Fuel</th>\n",
       "      <th>Manufacturer</th>\n",
       "      <th>Electric Utility</th>\n",
       "      <th>Age</th>\n",
       "    </tr>\n",
       "  </thead>\n",
       "  <tbody>\n",
       "    <tr>\n",
       "      <th>0</th>\n",
       "      <td>322</td>\n",
       "      <td>TESLA</td>\n",
       "      <td>BEV</td>\n",
       "      <td>Vehicle Eligible</td>\n",
       "      <td>0</td>\n",
       "      <td>PACIFICORP</td>\n",
       "      <td>3</td>\n",
       "    </tr>\n",
       "    <tr>\n",
       "      <th>3</th>\n",
       "      <td>289</td>\n",
       "      <td>TESLA</td>\n",
       "      <td>BEV</td>\n",
       "      <td>Vehicle Eligible</td>\n",
       "      <td>0</td>\n",
       "      <td>PACIFICORP</td>\n",
       "      <td>4</td>\n",
       "    </tr>\n",
       "    <tr>\n",
       "      <th>4</th>\n",
       "      <td>14</td>\n",
       "      <td>BMW</td>\n",
       "      <td>PHEV</td>\n",
       "      <td>Not eligible</td>\n",
       "      <td>0</td>\n",
       "      <td>PUGET SOUND ENERGY INC</td>\n",
       "      <td>6</td>\n",
       "    </tr>\n",
       "    <tr>\n",
       "      <th>5</th>\n",
       "      <td>84</td>\n",
       "      <td>NISSAN</td>\n",
       "      <td>BEV</td>\n",
       "      <td>Vehicle Eligible</td>\n",
       "      <td>0</td>\n",
       "      <td>PUGET SOUND ENERGY INC</td>\n",
       "      <td>8</td>\n",
       "    </tr>\n",
       "    <tr>\n",
       "      <th>6</th>\n",
       "      <td>215</td>\n",
       "      <td>TESLA</td>\n",
       "      <td>BEV</td>\n",
       "      <td>Vehicle Eligible</td>\n",
       "      <td>0</td>\n",
       "      <td>PUGET SOUND ENERGY INC</td>\n",
       "      <td>5</td>\n",
       "    </tr>\n",
       "    <tr>\n",
       "      <th>...</th>\n",
       "      <td>...</td>\n",
       "      <td>...</td>\n",
       "      <td>...</td>\n",
       "      <td>...</td>\n",
       "      <td>...</td>\n",
       "      <td>...</td>\n",
       "      <td>...</td>\n",
       "    </tr>\n",
       "    <tr>\n",
       "      <th>124616</th>\n",
       "      <td>30</td>\n",
       "      <td>BMW</td>\n",
       "      <td>PHEV</td>\n",
       "      <td>Vehicle Eligible</td>\n",
       "      <td>0</td>\n",
       "      <td>BONNEVILLE POWER ADMINISTRATION||PUD NO 1 OF F...</td>\n",
       "      <td>0</td>\n",
       "    </tr>\n",
       "    <tr>\n",
       "      <th>124668</th>\n",
       "      <td>0</td>\n",
       "      <td>KIA</td>\n",
       "      <td>BEV</td>\n",
       "      <td>Eligibility unknown</td>\n",
       "      <td>0</td>\n",
       "      <td>BONNEVILLE POWER ADMINISTRATION||BIG BEND ELEC...</td>\n",
       "      <td>1</td>\n",
       "    </tr>\n",
       "    <tr>\n",
       "      <th>124694</th>\n",
       "      <td>322</td>\n",
       "      <td>TESLA</td>\n",
       "      <td>BEV</td>\n",
       "      <td>Vehicle Eligible</td>\n",
       "      <td>0</td>\n",
       "      <td>BONNEVILLE POWER ADMINISTRATION||CITY OF TACOM...</td>\n",
       "      <td>3</td>\n",
       "    </tr>\n",
       "    <tr>\n",
       "      <th>124702</th>\n",
       "      <td>82</td>\n",
       "      <td>CHEVROLET</td>\n",
       "      <td>BEV</td>\n",
       "      <td>Vehicle Eligible</td>\n",
       "      <td>0</td>\n",
       "      <td>BONNEVILLE POWER ADMINISTRATION||PUD NO 1 OF C...</td>\n",
       "      <td>9</td>\n",
       "    </tr>\n",
       "    <tr>\n",
       "      <th>124714</th>\n",
       "      <td>238</td>\n",
       "      <td>CHEVROLET</td>\n",
       "      <td>BEV</td>\n",
       "      <td>Vehicle Eligible</td>\n",
       "      <td>0</td>\n",
       "      <td>BONNEVILLE POWER ADMINISTRATION||CITY OF TACOM...</td>\n",
       "      <td>5</td>\n",
       "    </tr>\n",
       "  </tbody>\n",
       "</table>\n",
       "<p>6424 rows × 7 columns</p>\n",
       "</div>"
      ],
      "text/plain": [
       "        Range      Brand Category     Alternative Fuel  Manufacturer  \\\n",
       "0         322      TESLA      BEV     Vehicle Eligible             0   \n",
       "3         289      TESLA      BEV     Vehicle Eligible             0   \n",
       "4          14        BMW     PHEV         Not eligible             0   \n",
       "5          84     NISSAN      BEV     Vehicle Eligible             0   \n",
       "6         215      TESLA      BEV     Vehicle Eligible             0   \n",
       "...       ...        ...      ...                  ...           ...   \n",
       "124616     30        BMW     PHEV     Vehicle Eligible             0   \n",
       "124668      0        KIA      BEV  Eligibility unknown             0   \n",
       "124694    322      TESLA      BEV     Vehicle Eligible             0   \n",
       "124702     82  CHEVROLET      BEV     Vehicle Eligible             0   \n",
       "124714    238  CHEVROLET      BEV     Vehicle Eligible             0   \n",
       "\n",
       "                                         Electric Utility  Age  \n",
       "0                                              PACIFICORP    3  \n",
       "3                                              PACIFICORP    4  \n",
       "4                                  PUGET SOUND ENERGY INC    6  \n",
       "5                                  PUGET SOUND ENERGY INC    8  \n",
       "6                                  PUGET SOUND ENERGY INC    5  \n",
       "...                                                   ...  ...  \n",
       "124616  BONNEVILLE POWER ADMINISTRATION||PUD NO 1 OF F...    0  \n",
       "124668  BONNEVILLE POWER ADMINISTRATION||BIG BEND ELEC...    1  \n",
       "124694  BONNEVILLE POWER ADMINISTRATION||CITY OF TACOM...    3  \n",
       "124702  BONNEVILLE POWER ADMINISTRATION||PUD NO 1 OF C...    9  \n",
       "124714  BONNEVILLE POWER ADMINISTRATION||CITY OF TACOM...    5  \n",
       "\n",
       "[6424 rows x 7 columns]"
      ]
     },
     "execution_count": 24,
     "metadata": {},
     "output_type": "execute_result"
    }
   ],
   "source": [
    "df"
   ]
  },
  {
   "cell_type": "markdown",
   "id": "40822cc7",
   "metadata": {},
   "source": [
    "### Visualisasi"
   ]
  },
  {
   "cell_type": "code",
   "execution_count": 25,
   "id": "7d3358bf",
   "metadata": {
    "scrolled": false
   },
   "outputs": [
    {
     "data": {
      "text/plain": [
       "<Axes: >"
      ]
     },
     "execution_count": 25,
     "metadata": {},
     "output_type": "execute_result"
    },
    {
     "data": {
      "image/png": "[encoded data removed]",
      "text/plain": [
       "<Figure size 2500x1000 with 2 Axes>"
      ]
     },
     "metadata": {},
     "output_type": "display_data"
    }
   ],
   "source": [
    "# memvisualisasikan missing value\n",
    "missingno.matrix(df)"
   ]
  },
  {
   "cell_type": "markdown",
   "id": "9ba27c3a",
   "metadata": {},
   "source": [
    "#### Range Distribution"
   ]
  },
  {
   "cell_type": "code",
   "execution_count": null,
   "id": "f8dd58c0",
   "metadata": {
    "scrolled": false
   },
   "outputs": [],
   "source": [
    "sns.distplot(df['Range'], hist_kws={'color':'purple', 'edgecolor':'black', 'linewidth':.5, 'linestyle':'-'})\n",
    "sns.set(rc={\"figure.figsize\":(7, 5)})\n",
    "plt.title(\"Range Distribution\")\n",
    "plt.show()"
   ]
  },
  {
   "cell_type": "markdown",
   "id": "226c9439",
   "metadata": {},
   "source": [
    "#### Age Distribution"
   ]
  },
  {
   "cell_type": "code",
   "execution_count": null,
   "id": "686d6337",
   "metadata": {
    "scrolled": false
   },
   "outputs": [],
   "source": [
    "sns.distplot(df['Age'],\n",
    "             hist_kws={'color':'blue', 'edgecolor':'black',\n",
    "                       'linewidth':.5, 'linestyle':'-'})\n",
    "sns.set(rc={\"figure.figsize\":(7, 5)})\n",
    "plt.title(\"Age Distribution\")\n",
    "plt.show()"
   ]
  },
  {
   "cell_type": "markdown",
   "id": "da955e33",
   "metadata": {},
   "source": [
    "#### Barplot Age vs Range"
   ]
  },
  {
   "cell_type": "code",
   "execution_count": null,
   "id": "f681cce5",
   "metadata": {},
   "outputs": [],
   "source": [
    "ax= plt.figure(figsize=(10,5))\n",
    "sns.barplot(x='Age',y='Range',data=df,palette='Paired')\n",
    "plt.grid(axis='y')\n",
    "plt.title('Age VS Range')\n",
    "plt.xlabel('Age')\n",
    "plt.ylabel('Range')\n",
    "plt.xticks(rotation=45);"
   ]
  },
  {
   "cell_type": "markdown",
   "id": "e6be2ae7",
   "metadata": {},
   "source": [
    "#### Barplot Brand vs Range"
   ]
  },
  {
   "cell_type": "code",
   "execution_count": null,
   "id": "8daca7b4",
   "metadata": {},
   "outputs": [],
   "source": [
    "# mengecek value count kolom brand\n",
    "df['Brand'].value_counts()"
   ]
  },
  {
   "cell_type": "markdown",
   "id": "21daa6b6",
   "metadata": {},
   "source": [
    "####  Barplot Brand"
   ]
  },
  {
   "cell_type": "code",
   "execution_count": null,
   "id": "f7f56924",
   "metadata": {
    "scrolled": false
   },
   "outputs": [],
   "source": [
    "sns.countplot(x ='Brand', data = df,palette ='PiYG')\n",
    "plt.xticks(rotation='vertical')\n",
    "plt.title(\"Brand wise Car\")\n",
    "sns.set(rc={\"figure.figsize\":(6, 4)})\n",
    "plt.show()\n",
    "\n",
    "ax= plt.figure(figsize=(20,5))\n",
    "sns.barplot(x='Brand',y='Range',data=df,palette='Paired')\n",
    "plt.grid(axis='y')\n",
    "plt.title('Range VS Brand')\n",
    "plt.xlabel('Brand')\n",
    "plt.ylabel('Range')\n",
    "plt.xticks(rotation=45)\n",
    "plt.show();"
   ]
  },
  {
   "cell_type": "markdown",
   "id": "0e40106c",
   "metadata": {},
   "source": [
    "#### Barplot Category "
   ]
  },
  {
   "cell_type": "code",
   "execution_count": null,
   "id": "a8264a1e",
   "metadata": {},
   "outputs": [],
   "source": [
    "# mengecek value count kolom category\n",
    "df['Category'].value_counts()"
   ]
  },
  {
   "cell_type": "code",
   "execution_count": null,
   "id": "7bff88ae",
   "metadata": {
    "scrolled": false
   },
   "outputs": [],
   "source": [
    "sns.countplot(x ='Category', data = df,palette ='PiYG')\n",
    "plt.title(\"Category wise Cars\")\n",
    "sns.set(rc={\"figure.figsize\":(6, 4)})\n",
    "plt.show()\n",
    "\n",
    "sns.barplot(x=\"Category\", y=\"Range\", data=df, palette=\"PiYG\")\n",
    "sns.set(rc={\"figure.figsize\":(7, 5)})\n",
    "plt.title(\"Category wise Range\")\n",
    "plt.show()"
   ]
  },
  {
   "cell_type": "markdown",
   "id": "d0fda9e8",
   "metadata": {},
   "source": [
    "#### Barplot Manufacturer "
   ]
  },
  {
   "cell_type": "code",
   "execution_count": null,
   "id": "6ba93b66",
   "metadata": {},
   "outputs": [],
   "source": [
    "# mengecek value count kolom manufacturer\n",
    "df['Manufacturer'].value_counts()"
   ]
  },
  {
   "cell_type": "code",
   "execution_count": null,
   "id": "ebf936e6",
   "metadata": {
    "scrolled": false
   },
   "outputs": [],
   "source": [
    "sns.countplot(x ='Manufacturer', data = df,palette ='PiYG')\n",
    "plt.xticks(rotation='vertical')\n",
    "plt.title(\"Manufacturer wise Cars\")\n",
    "sns.set(rc={\"figure.figsize\":(6, 4)})\n",
    "plt.show()\n",
    "\n",
    "sns.barplot(x=\"Manufacturer\", y=\"Range\", data=df, palette=\"PiYG\")\n",
    "plt.xticks(rotation='vertical')\n",
    "sns.set(rc={\"figure.figsize\":(7, 5)})\n",
    "plt.title(\"Manufacturer wise Range\")\n",
    "plt.show()"
   ]
  },
  {
   "cell_type": "markdown",
   "id": "e1864f60",
   "metadata": {},
   "source": [
    "#### Barplot Alternative Fuel"
   ]
  },
  {
   "cell_type": "code",
   "execution_count": null,
   "id": "09e2f91c",
   "metadata": {},
   "outputs": [],
   "source": [
    "# mengecek value count kolom alternative fuel\n",
    "df['Alternative Fuel'].value_counts()"
   ]
  },
  {
   "cell_type": "code",
   "execution_count": null,
   "id": "f5a0230a",
   "metadata": {
    "scrolled": false
   },
   "outputs": [],
   "source": [
    "sns.countplot(x ='Alternative Fuel', data = df,palette ='PiYG')\n",
    "plt.title(\"Alternative Fuel wise Cars\")\n",
    "sns.set(rc={\"figure.figsize\":(7, 5)})\n",
    "plt.show()\n",
    "\n",
    "sns.barplot(x=\"Alternative Fuel\", y=\"Range\", data=df, palette=\"PiYG\")\n",
    "sns.set(rc={\"figure.figsize\":(7, 5)})\n",
    "plt.title(\"Alternative Fuel wise Range\")\n",
    "plt.show()"
   ]
  },
  {
   "cell_type": "markdown",
   "id": "c97274ef",
   "metadata": {},
   "source": [
    "#### Barplot Electric Utility"
   ]
  },
  {
   "cell_type": "code",
   "execution_count": null,
   "id": "54340002",
   "metadata": {
    "scrolled": true
   },
   "outputs": [],
   "source": [
    "# mengecek value count kolom Electric Utility\n",
    "df['Electric Utility'].value_counts()"
   ]
  },
  {
   "cell_type": "code",
   "execution_count": null,
   "id": "9c00408e",
   "metadata": {
    "scrolled": false
   },
   "outputs": [],
   "source": [
    "# Menghitung frekuensi masing-masing mileage dalam kolom\n",
    "Electric_counts = df['Electric Utility'].value_counts()\n",
    "\n",
    "# Mengambil 100 mileage teratas untuk ditampilkan\n",
    "top_Electric = Electric_counts.head(10)\n",
    "\n",
    "# Membuat horizontal barplot\n",
    "plt.figure(figsize=(12, 6))\n",
    "sns.barplot(x=top_Electric.values, y=top_Electric.index)\n",
    "plt.xlabel('Jumlah')\n",
    "plt.ylabel('Electric Utility')\n",
    "plt.title('Top 10 Electric Utility')\n",
    "plt.show()\n",
    "\n",
    "ax= plt.figure(figsize=(20,5))\n",
    "sns.barplot(x='Electric Utility',y='Range',data=df,palette='Paired')\n",
    "plt.grid(axis='y')\n",
    "plt.title('Range VS Electric Utility')\n",
    "plt.xlabel('Electric Utility')\n",
    "plt.ylabel('Range')\n",
    "plt.xticks(rotation='vertical')\n",
    "plt.show();\n"
   ]
  },
  {
   "cell_type": "code",
   "execution_count": null,
   "id": "ef324af8",
   "metadata": {
    "scrolled": true
   },
   "outputs": [],
   "source": [
    "# mengecek kolom pada dataframe\n",
    "df.columns"
   ]
  },
  {
   "cell_type": "code",
   "execution_count": null,
   "id": "d2fe1c05",
   "metadata": {
    "scrolled": false
   },
   "outputs": [],
   "source": [
    "df.head()"
   ]
  },
  {
   "cell_type": "markdown",
   "id": "a51df138",
   "metadata": {},
   "source": [
    "## Pre-processing 2"
   ]
  },
  {
   "cell_type": "markdown",
   "id": "9da7e7a5",
   "metadata": {},
   "source": [
    "#### Encode beberapa kolom untuk permodelan"
   ]
  },
  {
   "cell_type": "code",
   "execution_count": null,
   "id": "62ae86a6",
   "metadata": {},
   "outputs": [],
   "source": [
    "df = pd.get_dummies(df, columns=['Brand' ,'Category', 'Alternative Fuel', 'Electric Utility'])"
   ]
  },
  {
   "cell_type": "code",
   "execution_count": null,
   "id": "3505f83e",
   "metadata": {},
   "outputs": [],
   "source": [
    "df.head()"
   ]
  },
  {
   "cell_type": "code",
   "execution_count": null,
   "id": "5362c487",
   "metadata": {
    "scrolled": false
   },
   "outputs": [],
   "source": [
    "# mengecek correlation\n",
    "df.corr()"
   ]
  },
  {
   "cell_type": "code",
   "execution_count": null,
   "id": "6cd85522",
   "metadata": {
    "scrolled": false
   },
   "outputs": [],
   "source": [
    "# menampilkan Heatmap berdasarkan data\n",
    "plt.figure(figsize=(50, 50))\n",
    "correlation = df.corr(method='spearman')\n",
    "sns.heatmap(correlation, vmin=-1, vmax=1, center=0, cmap='vlag', annot=True, fmt='.2f', annot_kws={'size': 10})"
   ]
  },
  {
   "cell_type": "markdown",
   "id": "4dda804e",
   "metadata": {},
   "source": [
    "## MODELLING"
   ]
  },
  {
   "cell_type": "markdown",
   "id": "0a64e069",
   "metadata": {},
   "source": [
    "#### Import library untuk permodelan"
   ]
  },
  {
   "cell_type": "code",
   "execution_count": null,
   "id": "856a8443",
   "metadata": {},
   "outputs": [],
   "source": [
    "from sklearn.metrics import r2_score\n",
    "from sklearn.model_selection import cross_val_score\n",
    "\n",
    "from sklearn.model_selection import train_test_split, cross_val_score\n",
    "from sklearn.preprocessing import StandardScaler\n",
    "from sklearn import metrics"
   ]
  },
  {
   "cell_type": "markdown",
   "id": "923c6245",
   "metadata": {},
   "source": [
    "### KNN Regression"
   ]
  },
  {
   "cell_type": "code",
   "execution_count": null,
   "id": "d115e5b7",
   "metadata": {
    "scrolled": false
   },
   "outputs": [],
   "source": [
    "from sklearn.neighbors import KNeighborsRegressor\n",
    "# Splitting data\n",
    "X = df.drop(columns='Range', axis=1)\n",
    "y = df.Range\n",
    "X_train, X_test, y_train, y_test = train_test_split(X, y, test_size=0.2, random_state=42)"
   ]
  },
  {
   "cell_type": "code",
   "execution_count": null,
   "id": "37da4640",
   "metadata": {},
   "outputs": [],
   "source": [
    "knn = KNeighborsRegressor(n_neighbors=3)\n",
    "knn.fit(X_train, y_train)\n",
    "\n",
    "# Predict the model\n",
    "pred_test = knn.predict(X_test)\n",
    "pred_train = knn.predict(X_train)\n",
    "\n",
    "#Model evaluation\n",
    "def cross_val(model):\n",
    "    pred = cross_val_score(model, X, y, cv=10)\n",
    "    return pred.mean()\n",
    "\n",
    "def print_evaluate(true, predicted):\n",
    "    r2_square = metrics.r2_score(true, predicted)\n",
    "    print('R2 Square', r2_square)\n",
    "    \n",
    "print('KNN Algorithm Test set evaluation:')\n",
    "print_evaluate(y_test, pred_test)"
   ]
  },
  {
   "cell_type": "markdown",
   "id": "98b184bd",
   "metadata": {},
   "source": [
    "### Linear Regression"
   ]
  },
  {
   "cell_type": "code",
   "execution_count": null,
   "id": "3a074e89",
   "metadata": {},
   "outputs": [],
   "source": [
    "from sklearn.linear_model import LinearRegression\n",
    "# Splitting data\n",
    "X = df.drop(columns='Range', axis=1)\n",
    "y = df.Range\n",
    "X_train, X_test, y_train, y_test = train_test_split(X, y, test_size=0.2, random_state=42)"
   ]
  },
  {
   "cell_type": "code",
   "execution_count": null,
   "id": "cd9f77aa",
   "metadata": {},
   "outputs": [],
   "source": [
    "lr = LinearRegression()\n",
    "lr.fit(X_train, y_train)\n",
    "\n",
    "print('lr.intercept_', lr.intercept_)"
   ]
  },
  {
   "cell_type": "code",
   "execution_count": null,
   "id": "cb47f796",
   "metadata": {},
   "outputs": [],
   "source": [
    "# Predict the model\n",
    "pred_test = knn.predict(X_test)\n",
    "pred_train = knn.predict(X_train)\n",
    "\n",
    "#Model evaluation\n",
    "def cross_val(model):\n",
    "    pred = cross_val_score(model, X, y, cv=10)\n",
    "    return pred.mean()\n",
    "\n",
    "def print_evaluate(true, predicted):\n",
    "    r2_square = metrics.r2_score(true, predicted)\n",
    "    print('R2 Square', r2_square)\n",
    "\n",
    "print('KNN Algorithm Test set evaluation:')\n",
    "print_evaluate(y_test, pred_test)"
   ]
  },
  {
   "cell_type": "code",
   "execution_count": null,
   "id": "d93e316c",
   "metadata": {
    "scrolled": false
   },
   "outputs": [],
   "source": [
    "coeff_df = pd.DataFrame(lr.coef_, X.columns, columns=['Coefficient'])\n",
    "coeff_df"
   ]
  },
  {
   "cell_type": "code",
   "execution_count": null,
   "id": "d9496fee",
   "metadata": {},
   "outputs": [],
   "source": [
    "# Predict the model\n",
    "pred_test = lr.predict(X_test)\n",
    "pred_train = lr.predict(X_train)\n",
    "\n",
    "#Model evaluation\n",
    "def cross_val(model):\n",
    "    pred = cross_val_score(model, X, y, cv=10)\n",
    "    return pred.mean()\n",
    "\n",
    "def print_evaluate(true, predicted):\n",
    "    r2_square = metrics.r2_score(true, predicted)\n",
    "    print('R2 Square', r2_square)\n",
    "\n",
    "print('Test set evaluation:')\n",
    "print_evaluate(y_test, pred_test)"
   ]
  },
  {
   "cell_type": "markdown",
   "id": "5e9b33bd",
   "metadata": {},
   "source": [
    "### Naive Bayes"
   ]
  },
  {
   "cell_type": "code",
   "execution_count": null,
   "id": "fa44dc8e",
   "metadata": {},
   "outputs": [],
   "source": [
    "from sklearn.naive_bayes import GaussianNB\n",
    "# Splitting data\n",
    "X = df.drop(columns='Range', axis=1)\n",
    "y = df.Range\n",
    "X_train, X_test, y_train, y_test = train_test_split(X, y, test_size=0.2, random_state=42)"
   ]
  },
  {
   "cell_type": "code",
   "execution_count": null,
   "id": "47565380",
   "metadata": {},
   "outputs": [],
   "source": [
    "nb = GaussianNB()\n",
    "nb.fit(X_train, y_train)\n",
    "\n",
    "# Predict the model\n",
    "pred_test = nb.predict(X_test)\n",
    "pred_train = nb.predict(X_train)\n",
    "\n",
    "#Model evaluation\n",
    "def cross_val(model):\n",
    "    pred = cross_val_score(model, X, y, cv=10)\n",
    "    return pred.mean()\n",
    "\n",
    "def print_evaluate(true, predicted):\n",
    "    r2_square = metrics.r2_score(true, predicted)\n",
    "    print('R2 Square', r2_square)\n",
    "\n",
    "print('Test set evaluation:')\n",
    "print_evaluate(y_test, pred_test)"
   ]
  }
 ],
 "metadata": {
  "kernelspec": {
   "display_name": "Python 3 (ipykernel)",
   "language": "python",
   "name": "python3"
  },
  "language_info": {
   "codemirror_mode": {
    "name": "ipython",
    "version": 3
   },
   "file_extension": ".py",
   "mimetype": "text/x-python",
   "name": "python",
   "nbconvert_exporter": "python",
   "pygments_lexer": "ipython3",
   "version": "3.9.17"
  }
 },
 "nbformat": 4,
 "nbformat_minor": 5
}
